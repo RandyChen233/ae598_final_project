{
 "cells": [
  {
   "cell_type": "markdown",
   "metadata": {
    "id": "v7Cycmf3Zbok"
   },
   "source": [
    "# Stock NeurIPS2018 Part 3. Backtest\n",
    "This series is a reproduction of paper *the process in the paper Practical Deep Reinforcement Learning Approach for Stock Trading*. \n",
    "\n",
    "This is the third and last part of the NeurIPS2018 series, introducing how to use use the agents we trained to do backtest, and compare with baselines such as Mean Variance Optimization and DJIA index.\n",
    "\n",
    "Other demos can be found at the repo of [FinRL-Tutorials]((https://github.com/AI4Finance-Foundation/FinRL-Tutorials))."
   ]
  },
  {
   "cell_type": "markdown",
   "metadata": {
    "id": "1oWbj4HgqHBg"
   },
   "source": [
    "# Part 1. Install Packages"
   ]
  },
  {
   "cell_type": "code",
   "execution_count": 1,
   "metadata": {
    "id": "mqfBOKz-qJYF",
    "tags": []
   },
   "outputs": [],
   "source": [
    "import sys\n",
    "import pandas as pd\n",
    "import numpy as np\n",
    "import matplotlib.pyplot as plt\n",
    "\n",
    "from finrl.meta.preprocessor.yahoodownloader import YahooDownloader\n",
    "from finrl.meta.env_stock_trading.env_stocktrading import StockTradingEnv\n",
    "from finrl.agents.stablebaselines3.models import DRLAgent\n",
    "from stable_baselines3 import A2C, DDPG, PPO, SAC, TD3\n",
    "\n",
    "%matplotlib inline\n",
    "from finrl.config import INDICATORS"
   ]
  },
  {
   "cell_type": "markdown",
   "metadata": {
    "id": "mUF2P4hmqVjh"
   },
   "source": [
    "# Part 2. Backtesting"
   ]
  },
  {
   "cell_type": "markdown",
   "metadata": {
    "id": "BdU6qLsVWDxI"
   },
   "source": [
    "To backtest the agents, upload trade_data.csv in the same directory of this notebook. For Colab users, just upload trade_data.csv to the default directory."
   ]
  },
  {
   "attachments": {},
   "cell_type": "markdown",
   "metadata": {},
   "source": [
    "### train_data and trade_data are for the DJIA stocks; train2 and trade2 are manually selected stocks."
   ]
  },
  {
   "cell_type": "code",
   "execution_count": 2,
   "metadata": {
    "id": "mSjBHn_MZr4U",
    "tags": []
   },
   "outputs": [],
   "source": [
    "train = pd.read_csv('train_data.csv')\n",
    "trade = pd.read_csv('trade_data.csv')\n",
    "\n",
    "# If you are not using the data generated from part 1 of this tutorial, make sure \n",
    "# it has the columns and index in the form that could be make into the environment. \n",
    "# Then you can comment and skip the following lines.\n",
    "train = train.set_index(train.columns[0])\n",
    "train.index.names = ['']\n",
    "trade = trade.set_index(trade.columns[0])\n",
    "trade.index.names = ['']"
   ]
  },
  {
   "cell_type": "code",
   "execution_count": 3,
   "metadata": {
    "tags": []
   },
   "outputs": [],
   "source": [
    "train_2 = pd.read_csv('train_data_2.csv')\n",
    "trade_2 = pd.read_csv('trade_data_2.csv')\n",
    "\n",
    "# If you are not using the data generated from part 1 of this tutorial, make sure \n",
    "# it has the columns and index in the form that could be make into the environment. \n",
    "# Then you can comment and skip the following lines.\n",
    "train_2 = train_2.set_index(train_2.columns[0])\n",
    "train_2.index.names = ['']\n",
    "trade_2 = trade_2.set_index(trade_2.columns[0])\n",
    "trade_2.index.names = ['']"
   ]
  },
  {
   "cell_type": "markdown",
   "metadata": {
    "id": "qu4Ey54b36oL"
   },
   "source": [
    "Then, upload the trained agent to the same directory, and set the corresponding variable to True."
   ]
  },
  {
   "cell_type": "code",
   "execution_count": 4,
   "metadata": {
    "id": "Z_mVZM4IIa55",
    "tags": []
   },
   "outputs": [],
   "source": [
    "if_using_a2c = False\n",
    "if_using_ddpg = False\n",
    "if_using_ppo = True\n",
    "if_using_td3 = False\n",
    "if_using_sac = False"
   ]
  },
  {
   "cell_type": "markdown",
   "metadata": {
    "id": "73D4oRqAIkYj"
   },
   "source": [
    "Load the agents"
   ]
  },
  {
   "cell_type": "code",
   "execution_count": 5,
   "metadata": {
    "id": "6CagrX0I36ZN",
    "tags": []
   },
   "outputs": [],
   "source": [
    "trained_a2c = A2C.load(\"agent_a2c\") if if_using_a2c else None\n",
    "trained_ddpg = DDPG.load(\"agent_ddpg\") if if_using_ddpg else None\n",
    "trained_ppo = PPO.load(\"agent_ppo_djia\") if if_using_ppo else None\n",
    "trained_td3 = TD3.load(\"agent_td3\") if if_using_td3 else None\n",
    "trained_sac = SAC.load(\"agent_sac\") if if_using_sac else None"
   ]
  },
  {
   "cell_type": "markdown",
   "metadata": {
    "id": "U5mmgQF_h1jQ"
   },
   "source": [
    "### Trading (Out-of-sample Performance)\n",
    "\n",
    "We update periodically in order to take full advantage of the data, e.g., retrain quarterly, monthly or weekly. We also tune the parameters along the way, in this notebook we use the in-sample data from 2009-01 to 2020-07 to tune the parameters once, so there is some alpha decay here as the length of trade date extends. \n",
    "\n",
    "Numerous hyperparameters – e.g. the learning rate, the total number of samples to train on – influence the learning process and are usually determined by testing some variations."
   ]
  },
  {
   "cell_type": "code",
   "execution_count": 6,
   "metadata": {
    "colab": {
     "base_uri": "https://localhost:8080/"
    },
    "id": "4H_w3SaBAkKU",
    "outputId": "fdaed3a7-d3a9-4cde-d194-ee4576057175",
    "tags": []
   },
   "outputs": [
    {
     "name": "stdout",
     "output_type": "stream",
     "text": [
      "Stock Dimension: 29, State Space: 291\n"
     ]
    }
   ],
   "source": [
    "stock_dimension = len(trade.tic.unique())\n",
    "state_space = 1 + 2*stock_dimension + len(INDICATORS)*stock_dimension\n",
    "print(f\"Stock Dimension: {stock_dimension}, State Space: {state_space}\")"
   ]
  },
  {
   "cell_type": "code",
   "execution_count": 7,
   "metadata": {
    "tags": []
   },
   "outputs": [
    {
     "name": "stdout",
     "output_type": "stream",
     "text": [
      "Stock Dimension: 29, State Space: 291\n"
     ]
    }
   ],
   "source": [
    "stock_dimension = len(trade_2.tic.unique())\n",
    "state_space = 1 + 2*stock_dimension + len(INDICATORS)*stock_dimension\n",
    "print(f\"Stock Dimension: {stock_dimension}, State Space: {state_space}\")"
   ]
  },
  {
   "cell_type": "code",
   "execution_count": 8,
   "metadata": {
    "id": "nKNmQMqGAknW",
    "tags": []
   },
   "outputs": [],
   "source": [
    "buy_cost_list = sell_cost_list = [0.001] * stock_dimension\n",
    "num_stock_shares = [0] * stock_dimension\n",
    "\n",
    "env_kwargs = {\n",
    "    \"hmax\": 100,\n",
    "    \"initial_amount\": 100000,\n",
    "    \"num_stock_shares\": num_stock_shares,\n",
    "    \"buy_cost_pct\": buy_cost_list,\n",
    "    \"sell_cost_pct\": sell_cost_list,\n",
    "    \"state_space\": state_space,\n",
    "    \"stock_dim\": stock_dimension,\n",
    "    \"tech_indicator_list\": INDICATORS,\n",
    "    \"action_space\": stock_dimension,\n",
    "    \"reward_scaling\": 1e-4\n",
    "}"
   ]
  },
  {
   "cell_type": "code",
   "execution_count": 9,
   "metadata": {
    "id": "cIqoV0GSI52v",
    "tags": []
   },
   "outputs": [],
   "source": [
    "# e_trade_gym = StockTradingEnv(df = trade, turbulence_threshold = 70,risk_indicator_col='vix', **env_kwargs)\n",
    "# env_trade, obs_trade = e_trade_gym.get_sb_env()"
   ]
  },
  {
   "cell_type": "code",
   "execution_count": 10,
   "metadata": {
    "tags": []
   },
   "outputs": [],
   "source": [
    "e_trade_gym = StockTradingEnv(df = trade_2, turbulence_threshold = 70,risk_indicator_col='vix', **env_kwargs)"
   ]
  },
  {
   "cell_type": "code",
   "execution_count": 11,
   "metadata": {
    "colab": {
     "base_uri": "https://localhost:8080/"
    },
    "id": "lbFchno5j3xs",
    "outputId": "44fffa47-3b47-4e7b-96c2-0a485e9efead",
    "tags": []
   },
   "outputs": [],
   "source": [
    "df_account_value_a2c, df_actions_a2c = DRLAgent.DRL_prediction(\n",
    "    model=trained_a2c, \n",
    "    environment = e_trade_gym) if if_using_a2c else (None, None)"
   ]
  },
  {
   "cell_type": "code",
   "execution_count": 12,
   "metadata": {
    "id": "JbYljWGjj3pH",
    "tags": []
   },
   "outputs": [],
   "source": [
    "df_account_value_ddpg, df_actions_ddpg = DRLAgent.DRL_prediction(\n",
    "    model=trained_ddpg, \n",
    "    environment = e_trade_gym) if if_using_ddpg else (None, None)"
   ]
  },
  {
   "cell_type": "code",
   "execution_count": 13,
   "metadata": {
    "id": "74jNP2DBj3hb",
    "tags": []
   },
   "outputs": [
    {
     "name": "stdout",
     "output_type": "stream",
     "text": [
      "hit end!\n"
     ]
    }
   ],
   "source": [
    "df_account_value_ppo, df_actions_ppo = DRLAgent.DRL_prediction(\n",
    "    model=trained_ppo, \n",
    "    environment = e_trade_gym) if if_using_ppo else (None, None)"
   ]
  },
  {
   "cell_type": "code",
   "execution_count": 14,
   "metadata": {},
   "outputs": [
    {
     "name": "stdout",
     "output_type": "stream",
     "text": [
      "hit end!\n"
     ]
    }
   ],
   "source": [
    "df_account_value_ppo, df_actions_ppo = DRLAgent.DRL_prediction(\n",
    "    model=trained_ppo, \n",
    "    environment = e_trade_gym) if if_using_ppo else (None, None)"
   ]
  },
  {
   "cell_type": "code",
   "execution_count": 15,
   "metadata": {
    "id": "S7VyGGJPj3SH"
   },
   "outputs": [],
   "source": [
    "df_account_value_td3, df_actions_td3 = DRLAgent.DRL_prediction(\n",
    "    model=trained_td3, \n",
    "    environment = e_trade_gym) if if_using_td3 else (None, None)"
   ]
  },
  {
   "cell_type": "code",
   "execution_count": 16,
   "metadata": {
    "colab": {
     "base_uri": "https://localhost:8080/"
    },
    "id": "eLOnL5eYh1jR",
    "outputId": "70e50e24-aed5-49f9-cdd7-de6b9689d9ce"
   },
   "outputs": [],
   "source": [
    "df_account_value_sac, df_actions_sac = DRLAgent.DRL_prediction(\n",
    "    model=trained_sac, \n",
    "    environment = e_trade_gym) if if_using_sac else (None, None)"
   ]
  },
  {
   "cell_type": "markdown",
   "metadata": {
    "id": "GcE-t08w6DaW"
   },
   "source": [
    "# Part 3: Mean Variance Optimization"
   ]
  },
  {
   "cell_type": "markdown",
   "metadata": {
    "id": "17TUs71EWj09"
   },
   "source": [
    "Mean Variance optimization is a very classic strategy in portfolio management. Here, we go through the whole process to do the mean variance optimization and add it as a baseline to compare.\n",
    "\n",
    "First, process dataframe to the form for MVO weight calculation."
   ]
  },
  {
   "cell_type": "code",
   "execution_count": 17,
   "metadata": {
    "id": "wungSNOwPwKR"
   },
   "outputs": [],
   "source": [
    "def process_df_for_mvo(df):\n",
    "  df = df.sort_values(['date','tic'],ignore_index=True)[['date','tic','close']]\n",
    "  fst = df\n",
    "  fst = fst.iloc[0:stock_dimension, :]\n",
    "  tic = fst['tic'].tolist()\n",
    "\n",
    "  mvo = pd.DataFrame()\n",
    "\n",
    "  for k in range(len(tic)):\n",
    "    mvo[tic[k]] = 0\n",
    "\n",
    "  for i in range(df.shape[0]//stock_dimension):\n",
    "    n = df\n",
    "    n = n.iloc[i * stock_dimension:(i+1) * stock_dimension, :]\n",
    "    date = n['date'][i*stock_dimension]\n",
    "    mvo.loc[date] = n['close'].tolist()\n",
    "  \n",
    "  return mvo"
   ]
  },
  {
   "cell_type": "markdown",
   "metadata": {
    "id": "SwEwkHJ1d_6u"
   },
   "source": [
    "### Helper functions for mean returns and variance-covariance matrix"
   ]
  },
  {
   "cell_type": "code",
   "execution_count": 18,
   "metadata": {
    "id": "6KvXkpyE8MFq"
   },
   "outputs": [],
   "source": [
    "# Codes in this section partially refer to Dr G A Vijayalakshmi Pai\n",
    "\n",
    "# https://www.kaggle.com/code/vijipai/lesson-5-mean-variance-optimization-of-portfolios/notebook\n",
    "\n",
    "def StockReturnsComputing(StockPrice, Rows, Columns): \n",
    "  import numpy as np \n",
    "  StockReturn = np.zeros([Rows-1, Columns]) \n",
    "  for j in range(Columns):        # j: Assets \n",
    "    for i in range(Rows-1):     # i: Daily Prices \n",
    "      StockReturn[i,j]=((StockPrice[i+1, j]-StockPrice[i,j])/StockPrice[i,j])* 100 \n",
    "      \n",
    "  return StockReturn"
   ]
  },
  {
   "cell_type": "markdown",
   "metadata": {
    "id": "IeVVbuwveJ_5"
   },
   "source": [
    "### Calculate the weights for mean-variance"
   ]
  },
  {
   "cell_type": "code",
   "execution_count": 19,
   "metadata": {
    "colab": {
     "base_uri": "https://localhost:8080/"
    },
    "id": "kE8nruKLQYLO",
    "outputId": "42d07c80-f309-49f8-f2b4-36a51987086f"
   },
   "outputs": [
    {
     "data": {
      "text/plain": [
       "array([[247.33999634,  73.66999817, 446.42398071, ..., 142.3500061 ,\n",
       "         58.18000031,  71.09522247],\n",
       "       [254.11000061,  75.19999695, 429.12597656, ..., 146.36999512,\n",
       "         57.79000092,  68.41313171],\n",
       "       [249.53999329,  75.34999847, 425.63262939, ..., 145.94000244,\n",
       "         55.84000015,  69.50946808],\n",
       "       ...,\n",
       "       [317.01998901,  92.55999756, 663.90002441, ..., 197.86999512,\n",
       "        108.59999847,  71.12000275],\n",
       "       [323.14001465,  92.47000122, 657.11999512, ..., 196.80999756,\n",
       "        109.12000275,  71.26999664],\n",
       "       [330.66000366,  95.48000336, 661.64001465, ..., 196.94000244,\n",
       "        109.91999817,  70.76000214]])"
      ]
     },
     "execution_count": 19,
     "metadata": {},
     "output_type": "execute_result"
    }
   ],
   "source": [
    "# StockData = process_df_for_mvo(train)\n",
    "# TradeData = process_df_for_mvo(trade)\n",
    "\n",
    "StockData = process_df_for_mvo(train_2)\n",
    "TradeData = process_df_for_mvo(trade_2)\n",
    "\n",
    "TradeData.to_numpy()"
   ]
  },
  {
   "cell_type": "code",
   "execution_count": 20,
   "metadata": {
    "colab": {
     "base_uri": "https://localhost:8080/"
    },
    "id": "u6_O6vrn_uD4",
    "outputId": "0c2f8bf7-07e7-4fe5-c409-93312b95a8dd"
   },
   "outputs": [
    {
     "name": "stdout",
     "output_type": "stream",
     "text": [
      "Mean returns of assets in k-portfolio 1\n",
      " [ 0.061  0.236  0.123 -0.001  0.139  0.062  0.102 -0.034  0.561  0.027\n",
      "  0.093  0.049  0.09   0.145  0.142  0.067  0.123  0.055  0.073  0.064\n",
      "  0.052  0.134  0.096  0.036  0.014  0.055  0.06  -0.023  0.058]\n",
      "Variance-Covariance matrix of returns\n",
      " [[11.223  5.324  4.137  3.47   3.848  2.999  3.457  3.372  2.143  2.81\n",
      "   3.766  2.591  3.96   4.794  3.541  4.78   5.001  3.25   3.061  4.6\n",
      "   1.556  3.69   3.354  2.447  5.044  2.98   3.88   5.064  1.297]\n",
      " [ 5.324 12.882  5.071  3.729  4.749  2.511  2.937  3.627  4.025  2.653\n",
      "   3.445  2.187  4.516  5.813  4.103  5.683  5.909  3.381  3.822  4.981\n",
      "   1.498  4.555  4.267  3.508  3.349  3.426  4.533  4.484  1.039]\n",
      " [ 4.137  5.071  6.275  3.198  4.016  2.446  2.814  3.109  2.145  2.335\n",
      "   2.865  2.045  3.845  5.535  3.3    5.199  4.879  2.933  3.098  5.041\n",
      "   1.356  3.676  3.777  2.588  3.851  2.637  3.682  4.332  0.805]\n",
      " [ 3.47   3.729  3.198  8.525  2.798  1.607  1.813  6.092  3.559  1.722\n",
      "   2.193  1.583  7.073  3.296  2.682  3.08   4.703  2.129  5.157  2.92\n",
      "   0.668  2.6    2.429  2.295  2.805  1.715  2.851  4.143  0.124]\n",
      " [ 3.848  4.749  4.016  2.798  5.27   2.128  2.556  2.465  1.953  2.082\n",
      "   3.067  1.774  3.432  4.564  3.168  4.146  4.74   2.464  2.651  3.816\n",
      "   1.496  4.274  2.926  2.66   2.399  2.899  3.692  2.955  1.17 ]\n",
      " [ 2.999  2.511  2.446  1.607  2.128  3.737  2.398  1.413  1.224  2.112\n",
      "   1.669  2.397  1.796  2.927  2.257  3.019  2.359  2.281  1.469  2.85\n",
      "   1.49   1.962  2.039  1.373  3.178  1.865  2.063  3.26   1.249]\n",
      " [ 3.457  2.937  2.814  1.813  2.556  2.398  4.13   1.912  1.788  2.069\n",
      "   2.237  2.014  1.973  3.349  2.538  3.225  2.848  2.339  1.523  3.098\n",
      "   1.45   2.485  2.117  1.482  3.725  2.151  2.648  3.842  1.349]\n",
      " [ 3.372  3.627  3.109  6.092  2.465  1.413  1.912 19.156  4.453  1.424\n",
      "   2.272  1.255  7.208  3.144  2.453  3.113  4.522  1.79   5.733  2.9\n",
      "   0.4    2.665  2.735  2.055  3.167  1.795  2.786  4.859  0.07 ]\n",
      " [ 2.143  4.025  2.145  3.559  1.953  1.224  1.788  4.453 89.843  2.251\n",
      "   1.129  0.911  2.04   2.435  1.958  2.331  2.848  4.238  1.641  3.012\n",
      "   0.403  1.956  1.552  1.421  6.543  1.656  2.256  4.346 -0.16 ]\n",
      " [ 2.81   2.653  2.335  1.722  2.082  2.112  2.069  1.424  2.251  5.273\n",
      "   1.689  1.834  2.011  2.508  2.456  2.939  2.269  1.935  1.438  2.783\n",
      "   1.235  1.84   1.636  1.371  3.787  1.674  1.849  3.815  1.019]\n",
      " [ 3.766  3.445  2.865  2.193  3.067  1.669  2.237  2.272  1.129  1.689\n",
      "   4.418  1.523  2.616  3.272  2.59   2.826  3.838  1.936  2.054  2.708\n",
      "   1.252  2.961  2.088  2.236  1.629  2.416  2.839  2.044  1.075]\n",
      " [ 2.591  2.187  2.045  1.583  1.774  2.397  2.014  1.255  0.911  1.834\n",
      "   1.523  3.753  1.778  2.504  1.955  2.479  2.1    1.92   1.294  2.26\n",
      "   1.165  1.717  1.708  1.235  2.467  1.515  1.672  2.687  0.96 ]\n",
      " [ 3.96   4.516  3.845  7.073  3.432  1.796  1.973  7.208  2.04   2.011\n",
      "   2.616  1.778 10.82   3.864  3.286  3.889  5.44   2.3    6.229  3.586\n",
      "   0.961  3.283  3.026  2.711  2.477  2.038  3.27   4.287  0.219]\n",
      " [ 4.794  5.813  5.535  3.296  4.564  2.927  3.349  3.144  2.435  2.508\n",
      "   3.272  2.504  3.864  7.955  3.404  6.097  5.159  3.756  3.111  5.517\n",
      "   1.937  4.247  4.166  2.911  4.015  3.091  3.877  4.631  1.437]\n",
      " [ 3.541  4.103  3.3    2.682  3.168  2.257  2.538  2.453  1.958  2.456\n",
      "   2.59   1.955  3.286  3.404  6.563  3.502  4.32   2.109  2.406  3.348\n",
      "   1.21   3.04   2.311  1.994  3.1    2.302  3.34   3.501  0.846]\n",
      " [ 4.78   5.683  5.199  3.08   4.146  3.019  3.225  3.113  2.331  2.939\n",
      "   2.826  2.479  3.889  6.097  3.502  7.672  4.761  3.59   3.234  6.05\n",
      "   1.676  3.868  4.137  2.337  4.854  2.801  3.702  5.334  1.174]\n",
      " [ 5.001  5.909  4.879  4.703  4.74   2.359  2.848  4.522  2.848  2.269\n",
      "   3.838  2.1    5.44   5.159  4.32   4.761 12.53   2.82   3.802  4.303\n",
      "   1.349  4.554  3.562  3.444  3.649  3.261  4.774  4.406  0.833]\n",
      " [ 3.25   3.381  2.933  2.129  2.464  2.281  2.339  1.79   4.238  1.935\n",
      "   1.936  1.92   2.3    3.756  2.109  3.59   2.82   5.907  1.628  3.011\n",
      "   1.211  2.314  2.361  1.567  3.861  1.9    2.552  3.554  0.898]\n",
      " [ 3.061  3.822  3.098  5.157  2.651  1.469  1.523  5.733  1.641  1.438\n",
      "   2.054  1.294  6.229  3.111  2.406  3.234  3.802  1.628  8.344  3.115\n",
      "   0.816  2.561  2.457  2.426  1.837  1.786  2.537  3.238  0.346]\n",
      " [ 4.6    4.981  5.041  2.92   3.816  2.85   3.098  2.9    3.012  2.783\n",
      "   2.708  2.26   3.586  5.517  3.348  6.05   4.303  3.011  3.115  7.972\n",
      "   1.382  3.417  3.814  2.152  4.822  2.377  3.513  5.18   0.954]\n",
      " [ 1.556  1.498  1.356  0.668  1.496  1.49   1.45   0.4    0.403  1.235\n",
      "   1.252  1.165  0.961  1.937  1.21   1.676  1.349  1.211  0.816  1.382\n",
      "   2.033  1.396  1.085  1.029  1.18   1.427  1.159  1.203  1.513]\n",
      " [ 3.69   4.555  3.676  2.6    4.274  1.962  2.485  2.665  1.956  1.84\n",
      "   2.961  1.717  3.283  4.247  3.04   3.868  4.554  2.314  2.561  3.417\n",
      "   1.396  4.541  2.71   2.45   2.385  2.739  3.61   2.957  1.095]\n",
      " [ 3.354  4.267  3.777  2.429  2.926  2.039  2.117  2.735  1.552  1.636\n",
      "   2.088  1.708  3.026  4.166  2.311  4.137  3.562  2.361  2.457  3.814\n",
      "   1.085  2.71   4.679  2.013  2.691  1.872  2.395  3.254  0.657]\n",
      " [ 2.447  3.508  2.588  2.295  2.66   1.373  1.482  2.055  1.421  1.371\n",
      "   2.236  1.235  2.711  2.911  1.994  2.337  3.444  1.567  2.426  2.152\n",
      "   1.029  2.45   2.013  5.769  1.164  2.236  2.523  1.802  0.748]\n",
      " [ 5.044  3.349  3.851  2.805  2.399  3.178  3.725  3.167  6.543  3.787\n",
      "   1.629  2.467  2.477  4.015  3.1    4.854  3.649  3.861  1.837  4.822\n",
      "   1.18   2.385  2.691  1.164 14.38   1.71   2.902  8.854  0.879]\n",
      " [ 2.98   3.426  2.637  1.715  2.899  1.865  2.151  1.795  1.656  1.674\n",
      "   2.416  1.515  2.038  3.091  2.302  2.801  3.261  1.9    1.786  2.377\n",
      "   1.427  2.739  1.872  2.236  1.71   3.585  2.609  2.122  1.19 ]\n",
      " [ 3.88   4.533  3.682  2.851  3.692  2.063  2.648  2.786  2.256  1.849\n",
      "   2.839  1.672  3.27   3.877  3.34   3.702  4.774  2.552  2.537  3.513\n",
      "   1.159  3.61   2.395  2.523  2.902  2.609  6.794  3.708  0.853]\n",
      " [ 5.064  4.484  4.332  4.143  2.955  3.26   3.842  4.859  4.346  3.815\n",
      "   2.044  2.687  4.287  4.631  3.501  5.334  4.406  3.554  3.238  5.18\n",
      "   1.203  2.957  3.254  1.802  8.854  2.122  3.708 13.006  0.802]\n",
      " [ 1.297  1.039  0.805  0.124  1.17   1.249  1.349  0.07  -0.16   1.019\n",
      "   1.075  0.96   0.219  1.437  0.846  1.174  0.833  0.898  0.346  0.954\n",
      "   1.513  1.095  0.657  0.748  0.879  1.19   0.853  0.802  2.297]]\n"
     ]
    }
   ],
   "source": [
    "#compute asset returns\n",
    "arStockPrices = np.asarray(StockData)\n",
    "[Rows, Cols]=arStockPrices.shape\n",
    "arReturns = StockReturnsComputing(arStockPrices, Rows, Cols)\n",
    "\n",
    "#compute mean returns and variance covariance matrix of returns\n",
    "meanReturns = np.mean(arReturns, axis = 0)\n",
    "covReturns = np.cov(arReturns, rowvar=False)\n",
    " \n",
    "#set precision for printing results\n",
    "np.set_printoptions(precision=3, suppress = True)\n",
    "\n",
    "#display mean returns and variance-covariance matrix of returns\n",
    "print('Mean returns of assets in k-portfolio 1\\n', meanReturns)\n",
    "print('Variance-Covariance matrix of returns\\n', covReturns)"
   ]
  },
  {
   "cell_type": "markdown",
   "metadata": {
    "id": "zC7r-cI8RR1X"
   },
   "source": [
    "### Use PyPortfolioOpt"
   ]
  },
  {
   "cell_type": "code",
   "execution_count": 21,
   "metadata": {
    "colab": {
     "base_uri": "https://localhost:8080/"
    },
    "id": "b1btTONEdCU4",
    "outputId": "75096462-7dfb-4ce6-c6f4-4671f11e79fc"
   },
   "outputs": [
    {
     "data": {
      "text/plain": [
       "array([    0., 28096.,     0.,     0.,  7202.,     0.,     0.,     0.,\n",
       "       14991.,     0.,     0.,     0.,     0.,     0., 18720.,     0.,\n",
       "           0.,     0.,     0.,     0.,     0., 13127.,     0.,     0.,\n",
       "           0.,     0.,     0.,     0., 17863.])"
      ]
     },
     "execution_count": 21,
     "metadata": {},
     "output_type": "execute_result"
    }
   ],
   "source": [
    "from pypfopt.efficient_frontier import EfficientFrontier\n",
    "\n",
    "ef_mean = EfficientFrontier(meanReturns, covReturns, weight_bounds=(0, 0.5))\n",
    "raw_weights_mean = ef_mean.max_sharpe()\n",
    "cleaned_weights_mean = ef_mean.clean_weights()\n",
    "mvo_weights = np.array([100000 * cleaned_weights_mean[i] for i in range(29)])\n",
    "mvo_weights"
   ]
  },
  {
   "cell_type": "code",
   "execution_count": 22,
   "metadata": {
    "colab": {
     "base_uri": "https://localhost:8080/"
    },
    "id": "F38NJRJJgOmj",
    "outputId": "f575651b-1e9b-4015-ae71-c9fc2c3a3dae"
   },
   "outputs": [
    {
     "data": {
      "text/plain": [
       "array([  0.   , 367.412,   0.   ,   0.   ,  48.004,   0.   ,   0.   ,\n",
       "         0.   , 490.303,   0.   ,   0.   ,   0.   ,   0.   ,   0.   ,\n",
       "        68.67 ,   0.   ,   0.   ,   0.   ,   0.   ,   0.   ,   0.   ,\n",
       "        43.224,   0.   ,   0.   ,   0.   ,   0.   ,   0.   ,   0.   ,\n",
       "       257.895])"
      ]
     },
     "execution_count": 22,
     "metadata": {},
     "output_type": "execute_result"
    }
   ],
   "source": [
    "LastPrice = np.array([1/p for p in StockData.tail(1).to_numpy()[0]])\n",
    "Initial_Portfolio = np.multiply(mvo_weights, LastPrice)\n",
    "Initial_Portfolio"
   ]
  },
  {
   "cell_type": "code",
   "execution_count": 23,
   "metadata": {
    "id": "ZAd1iXqZhQ6X"
   },
   "outputs": [],
   "source": [
    "Portfolio_Assets = TradeData @ Initial_Portfolio\n",
    "MVO_result = pd.DataFrame(Portfolio_Assets, columns=[\"Mean Var\"])\n",
    "# MVO_result"
   ]
  },
  {
   "cell_type": "markdown",
   "metadata": {
    "id": "I5sgGe7g1HsL"
   },
   "source": [
    "# Part 4: DJIA index"
   ]
  },
  {
   "cell_type": "markdown",
   "metadata": {
    "id": "sVe_ufxTY2CW"
   },
   "source": [
    "Add DJIA index as a baseline to compare with."
   ]
  },
  {
   "cell_type": "code",
   "execution_count": 24,
   "metadata": {
    "id": "sACPzsI-6k8q"
   },
   "outputs": [],
   "source": [
    "TRAIN_START_DATE = '2018-01-01'\n",
    "TRAIN_END_DATE = '2022-07-01'\n",
    "TRADE_START_DATE = '2022-07-01'\n",
    "TRADE_END_DATE = '2023-04-12'"
   ]
  },
  {
   "cell_type": "code",
   "execution_count": 25,
   "metadata": {
    "colab": {
     "base_uri": "https://localhost:8080/"
    },
    "id": "TuszW-OB1K0m",
    "outputId": "b89a8350-de58-4fea-8e4b-856efa872712"
   },
   "outputs": [
    {
     "name": "stdout",
     "output_type": "stream",
     "text": [
      "[*********************100%***********************]  1 of 1 completed\n",
      "Shape of DataFrame:  (195, 8)\n"
     ]
    }
   ],
   "source": [
    "df_dji = YahooDownloader(start_date = TRADE_START_DATE,\n",
    "                     end_date = TRADE_END_DATE,\n",
    "                     ticker_list = ['djia']).fetch_data()\n",
    "# df_dji"
   ]
  },
  {
   "cell_type": "code",
   "execution_count": 26,
   "metadata": {
    "id": "Q3RXz72U1VbV"
   },
   "outputs": [],
   "source": [
    "df_dji = df_dji[['date','close']]\n",
    "fst_day = df_dji['close'][0]\n",
    "dji = pd.merge(df_dji['date'], df_dji['close'].div(fst_day).mul(100000), \n",
    "               how='outer', left_index=True, right_index=True).set_index('date')\n",
    "# dji"
   ]
  },
  {
   "cell_type": "code",
   "execution_count": null,
   "metadata": {},
   "outputs": [],
   "source": []
  },
  {
   "attachments": {},
   "cell_type": "markdown",
   "metadata": {},
   "source": [
    "#### Add the tickers in trade_2.csv as a baseline for comparison"
   ]
  },
  {
   "cell_type": "code",
   "execution_count": 81,
   "metadata": {},
   "outputs": [
    {
     "name": "stdout",
     "output_type": "stream",
     "text": [
      "[*********************100%***********************]  1 of 1 completed\n",
      "[*********************100%***********************]  1 of 1 completed\n",
      "[*********************100%***********************]  1 of 1 completed\n",
      "[*********************100%***********************]  1 of 1 completed\n",
      "[*********************100%***********************]  1 of 1 completed\n",
      "[*********************100%***********************]  1 of 1 completed\n",
      "[*********************100%***********************]  1 of 1 completed\n",
      "[*********************100%***********************]  1 of 1 completed\n",
      "[*********************100%***********************]  1 of 1 completed\n",
      "[*********************100%***********************]  1 of 1 completed\n",
      "[*********************100%***********************]  1 of 1 completed\n",
      "[*********************100%***********************]  1 of 1 completed\n",
      "[*********************100%***********************]  1 of 1 completed\n",
      "[*********************100%***********************]  1 of 1 completed\n",
      "[*********************100%***********************]  1 of 1 completed\n",
      "[*********************100%***********************]  1 of 1 completed\n",
      "[*********************100%***********************]  1 of 1 completed\n",
      "[*********************100%***********************]  1 of 1 completed\n",
      "[*********************100%***********************]  1 of 1 completed\n",
      "[*********************100%***********************]  1 of 1 completed\n",
      "[*********************100%***********************]  1 of 1 completed\n",
      "[*********************100%***********************]  1 of 1 completed\n",
      "[*********************100%***********************]  1 of 1 completed\n",
      "[*********************100%***********************]  1 of 1 completed\n",
      "[*********************100%***********************]  1 of 1 completed\n",
      "[*********************100%***********************]  1 of 1 completed\n",
      "[*********************100%***********************]  1 of 1 completed\n",
      "[*********************100%***********************]  1 of 1 completed\n",
      "[*********************100%***********************]  1 of 1 completed\n",
      "Shape of DataFrame:  (5655, 8)\n"
     ]
    },
    {
     "name": "stderr",
     "output_type": "stream",
     "text": [
      "/tmp/ipykernel_7553/2592328472.py:37: FutureWarning: The default value of numeric_only in DataFrameGroupBy.mean is deprecated. In a future version, numeric_only will default to False. Either specify numeric_only or select only columns which should be valid for the function.\n",
      "  fst_day = df_custom.groupby(['date']).mean().reset_index()['close'][0]\n",
      "/tmp/ipykernel_7553/2592328472.py:38: FutureWarning: The default value of numeric_only in DataFrameGroupBy.mean is deprecated. In a future version, numeric_only will default to False. Either specify numeric_only or select only columns which should be valid for the function.\n",
      "  df_custom = pd.merge(df_dji['date'], df_custom.groupby(['date']).mean().reset_index()['close'].div(fst_day).mul(100000),\n"
     ]
    }
   ],
   "source": [
    "list_ticker =['ALGN',\n",
    "                'AMD',\n",
    "                'ASML',\n",
    "                'BABA',\n",
    "                'CDNS',\n",
    "                'CSX',\n",
    "                'CTAS',\n",
    "                'EDU',\n",
    "                'GME',\n",
    "                'HAS',\n",
    "                'IDXX',\n",
    "                'JBHT',\n",
    "                'JD',\n",
    "                'KLAC',\n",
    "                'LULU',\n",
    "                'MCHP',\n",
    "                'MELI',\n",
    "                'NTAP',\n",
    "                'NTES',\n",
    "                'NXPI',\n",
    "                'PEP',\n",
    "                'SNPS',\n",
    "                'TSM',\n",
    "                'TTWO',\n",
    "                'UAL',\n",
    "                'VRSN',\n",
    "                'WDAY',\n",
    "                'WYNN',\n",
    "                'XEL']\n",
    "\n",
    "df_custom = YahooDownloader(start_date = TRADE_START_DATE,\n",
    "                     end_date = TRADE_END_DATE,\n",
    "                     ticker_list = list_ticker).fetch_data()\n",
    "\n",
    "\n",
    "\n",
    "fst_day = df_custom.groupby(['date']).mean().reset_index()['close'][0]\n",
    "df_custom = pd.merge(df_dji['date'], df_custom.groupby(['date']).mean().reset_index()['close'].div(fst_day).mul(100000), \n",
    "               how='outer', left_index=True, right_index=True).set_index('date')\n"
   ]
  },
  {
   "cell_type": "markdown",
   "metadata": {
    "id": "W6vvNSC6h1jZ"
   },
   "source": [
    "<a id='4'></a>\n",
    "# Part 5: Backtesting Results\n",
    "Backtesting plays a key role in evaluating the performance of a trading strategy. Automated backtesting tool is preferred because it reduces the human error. We usually use the Quantopian pyfolio package to backtest our trading strategies. It is easy to use and consists of various individual plots that provide a comprehensive image of the performance of a trading strategy."
   ]
  },
  {
   "cell_type": "code",
   "execution_count": null,
   "metadata": {},
   "outputs": [],
   "source": []
  },
  {
   "cell_type": "code",
   "execution_count": 85,
   "metadata": {
    "id": "KeDeGAc9VrEg"
   },
   "outputs": [],
   "source": [
    "df_result_a2c = df_account_value_a2c.set_index(df_account_value_a2c.columns[0]) if if_using_a2c else None\n",
    "df_result_ddpg = df_account_value_ddpg.set_index(df_account_value_ddpg.columns[0]) if if_using_ddpg else None\n",
    "df_result_ppo = df_account_value_ppo.set_index(df_account_value_ppo.columns[0]) if if_using_ppo else None\n",
    "df_result_td3 = df_account_value_td3.set_index(df_account_value_td3.columns[0]) if if_using_td3 else None\n",
    "df_result_sac = df_account_value_sac.set_index(df_account_value_sac.columns[0]) if if_using_sac else None\n",
    "\n",
    "result = pd.DataFrame()\n",
    "if if_using_a2c: result = pd.merge(result, df_result_a2c, how='outer', left_index=True, right_index=True)\n",
    "if if_using_ddpg: result = pd.merge(result, df_result_ddpg, how='outer', left_index=True, right_index=True)\n",
    "if if_using_ppo: result = pd.merge(result, df_result_ppo, how='outer', left_index=True, right_index=True)\n",
    "if if_using_td3: result = pd.merge(result, df_result_td3, how='outer', left_index=True, right_index=True)\n",
    "if if_using_sac: result = pd.merge(result, df_result_sac, how='outer', left_index=True, right_index=True)\n",
    "result = pd.merge(result, MVO_result, how='outer', left_index=True, right_index=True)\n",
    "result = pd.merge(result, dji, how='outer', left_index=True, right_index=True).fillna(method='bfill')"
   ]
  },
  {
   "cell_type": "code",
   "execution_count": 88,
   "metadata": {
    "id": "JvlTVQwsiMyx"
   },
   "outputs": [],
   "source": [
    "col_name = []\n",
    "col_name.append('A2C') if if_using_a2c else None\n",
    "col_name.append('DDPG') if if_using_ddpg else None\n",
    "col_name.append('PPO') if if_using_ppo else None\n",
    "col_name.append('TD3') if if_using_td3 else None\n",
    "col_name.append('SAC') if if_using_sac else None\n",
    "col_name.append('Mean Var')\n",
    "col_name.append('Manually Selected') \n",
    "result.columns = col_name"
   ]
  },
  {
   "cell_type": "code",
   "execution_count": 89,
   "metadata": {
    "colab": {
     "base_uri": "https://localhost:8080/",
     "height": 455
    },
    "id": "l4FZxyDt3XaE",
    "outputId": "2e739637-bf88-4698-9cf1-9a526452e465"
   },
   "outputs": [
    {
     "data": {
      "text/html": [
       "<div>\n",
       "<style scoped>\n",
       "    .dataframe tbody tr th:only-of-type {\n",
       "        vertical-align: middle;\n",
       "    }\n",
       "\n",
       "    .dataframe tbody tr th {\n",
       "        vertical-align: top;\n",
       "    }\n",
       "\n",
       "    .dataframe thead th {\n",
       "        text-align: right;\n",
       "    }\n",
       "</style>\n",
       "<table border=\"1\" class=\"dataframe\">\n",
       "  <thead>\n",
       "    <tr style=\"text-align: right;\">\n",
       "      <th></th>\n",
       "      <th>PPO</th>\n",
       "      <th>Mean Var</th>\n",
       "      <th>Manually Selected</th>\n",
       "    </tr>\n",
       "    <tr>\n",
       "      <th>date</th>\n",
       "      <th></th>\n",
       "      <th></th>\n",
       "      <th></th>\n",
       "    </tr>\n",
       "  </thead>\n",
       "  <tbody>\n",
       "    <tr>\n",
       "      <th>2022-07-01</th>\n",
       "      <td>100000.000000</td>\n",
       "      <td>98820.298584</td>\n",
       "      <td>100000.000000</td>\n",
       "    </tr>\n",
       "    <tr>\n",
       "      <th>2022-07-05</th>\n",
       "      <td>100603.200565</td>\n",
       "      <td>99858.219721</td>\n",
       "      <td>101709.371967</td>\n",
       "    </tr>\n",
       "    <tr>\n",
       "      <th>2022-07-06</th>\n",
       "      <td>100088.585255</td>\n",
       "      <td>100132.049131</td>\n",
       "      <td>101644.931845</td>\n",
       "    </tr>\n",
       "    <tr>\n",
       "      <th>2022-07-07</th>\n",
       "      <td>103701.478274</td>\n",
       "      <td>104723.542128</td>\n",
       "      <td>104619.889191</td>\n",
       "    </tr>\n",
       "    <tr>\n",
       "      <th>2022-07-08</th>\n",
       "      <td>103800.956033</td>\n",
       "      <td>104053.109339</td>\n",
       "      <td>104409.154867</td>\n",
       "    </tr>\n",
       "    <tr>\n",
       "      <th>...</th>\n",
       "      <td>...</td>\n",
       "      <td>...</td>\n",
       "      <td>...</td>\n",
       "    </tr>\n",
       "    <tr>\n",
       "      <th>2023-04-04</th>\n",
       "      <td>117279.258359</td>\n",
       "      <td>115814.240847</td>\n",
       "      <td>135526.861263</td>\n",
       "    </tr>\n",
       "    <tr>\n",
       "      <th>2023-04-05</th>\n",
       "      <td>118239.841924</td>\n",
       "      <td>114539.154498</td>\n",
       "      <td>132938.265270</td>\n",
       "    </tr>\n",
       "    <tr>\n",
       "      <th>2023-04-06</th>\n",
       "      <td>118528.308961</td>\n",
       "      <td>114614.228633</td>\n",
       "      <td>132617.312333</td>\n",
       "    </tr>\n",
       "    <tr>\n",
       "      <th>2023-04-10</th>\n",
       "      <td>118902.583803</td>\n",
       "      <td>115928.242009</td>\n",
       "      <td>133586.545546</td>\n",
       "    </tr>\n",
       "    <tr>\n",
       "      <th>2023-04-11</th>\n",
       "      <td>NaN</td>\n",
       "      <td>NaN</td>\n",
       "      <td>134364.359098</td>\n",
       "    </tr>\n",
       "  </tbody>\n",
       "</table>\n",
       "<p>195 rows × 3 columns</p>\n",
       "</div>"
      ],
      "text/plain": [
       "                      PPO       Mean Var  Manually Selected\n",
       "date                                                       \n",
       "2022-07-01  100000.000000   98820.298584      100000.000000\n",
       "2022-07-05  100603.200565   99858.219721      101709.371967\n",
       "2022-07-06  100088.585255  100132.049131      101644.931845\n",
       "2022-07-07  103701.478274  104723.542128      104619.889191\n",
       "2022-07-08  103800.956033  104053.109339      104409.154867\n",
       "...                   ...            ...                ...\n",
       "2023-04-04  117279.258359  115814.240847      135526.861263\n",
       "2023-04-05  118239.841924  114539.154498      132938.265270\n",
       "2023-04-06  118528.308961  114614.228633      132617.312333\n",
       "2023-04-10  118902.583803  115928.242009      133586.545546\n",
       "2023-04-11            NaN            NaN      134364.359098\n",
       "\n",
       "[195 rows x 3 columns]"
      ]
     },
     "execution_count": 89,
     "metadata": {},
     "output_type": "execute_result"
    }
   ],
   "source": [
    "result"
   ]
  },
  {
   "cell_type": "markdown",
   "metadata": {
    "id": "QQuc5hI9Yklt"
   },
   "source": [
    "Now, everything is ready, we can plot the backtest result."
   ]
  },
  {
   "cell_type": "code",
   "execution_count": 91,
   "metadata": {
    "colab": {
     "base_uri": "https://localhost:8080/",
     "height": 381
    },
    "id": "6xRfrqK4RVfq",
    "outputId": "469c9729-fd57-417c-9b13-2243426923e2"
   },
   "outputs": [
    {
     "data": {
      "text/plain": [
       "<Figure size 1500x500 with 0 Axes>"
      ]
     },
     "metadata": {},
     "output_type": "display_data"
    },
    {
     "data": {
      "image/png": "[encoded data removed]",
      "text/plain": [
       "<Figure size 1500x500 with 1 Axes>"
      ]
     },
     "metadata": {},
     "output_type": "display_data"
    }
   ],
   "source": [
    "plt.rcParams[\"figure.figsize\"] = (15,5)\n",
    "plt.figure()\n",
    "result.plot()\n",
    "plt.title('PPO trained on DJIA')\n",
    "plt.ylabel('Portfolio Value[USD\\$]')\n",
    "plt.savefig('ppo_agent1_manual_selected_trade.png')"
   ]
  },
  {
   "cell_type": "code",
   "execution_count": null,
   "metadata": {},
   "outputs": [],
   "source": []
  }
 ],
 "metadata": {
  "colab": {
   "collapsed_sections": [
    "GfZ5vY5wRjkJ"
   ],
   "provenance": []
  },
  "kernelspec": {
   "display_name": "Python 3 (ipykernel)",
   "language": "python",
   "name": "python3"
  },
  "language_info": {
   "codemirror_mode": {
    "name": "ipython",
    "version": 3
   },
   "file_extension": ".py",
   "mimetype": "text/x-python",
   "name": "python",
   "nbconvert_exporter": "python",
   "pygments_lexer": "ipython3",
   "version": "3.8.10"
  }
 },
 "nbformat": 4,
 "nbformat_minor": 4
}
